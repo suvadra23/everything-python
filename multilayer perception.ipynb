{
 "cells": [
  {
   "cell_type": "code",
   "execution_count": 1,
   "id": "733515e4",
   "metadata": {},
   "outputs": [
    {
     "name": "stderr",
     "output_type": "stream",
     "text": [
      "C:\\ProgramData\\Anaconda3\\lib\\site-packages\\scipy\\__init__.py:146: UserWarning: A NumPy version >=1.16.5 and <1.23.0 is required for this version of SciPy (detected version 1.24.3\n",
      "  warnings.warn(f\"A NumPy version >={np_minversion} and <{np_maxversion}\"\n"
     ]
    }
   ],
   "source": [
    "from keras.models import Sequential \n",
    "from keras.layers import Dense\n",
    "import numpy as np\n",
    "import tensorflow as tf"
   ]
  },
  {
   "cell_type": "code",
   "execution_count": 2,
   "id": "febab289",
   "metadata": {},
   "outputs": [],
   "source": [
    "tf.random.set_seed(69)\n",
    "X_train=np.array([[0,0],[0,1],[1,0],[1,1]])\n",
    "y_train=np.array([[0],[1],[1],[0]])\n",
    "model=Sequential([Dense(4,input_dim=2,activation='sigmoid'),\n",
    "                 Dense(1,activation='sigmoid')])\n",
    "model.compile(loss='binary_crossentropy',\n",
    "             optimizer='adam',\n",
    "             metrics=['accuracy'])\n",
    "model.fit(X_train,y_train,epochs=2000,verbose=0)\n",
    "loss,accuracy=model.evaluate(X_train,y_train,verbose=0)"
   ]
  },
  {
   "cell_type": "code",
   "execution_count": 3,
   "id": "528d99f6",
   "metadata": {},
   "outputs": [
    {
     "name": "stdout",
     "output_type": "stream",
     "text": [
      "loss: 0.23, Accuracy:1.00\n",
      "Input\tOutput\n",
      "[0 0]\t0\n",
      "[0 1]\t1\n",
      "[1 0]\t1\n",
      "[1 1]\t0\n"
     ]
    }
   ],
   "source": [
    "print(f\"loss: {loss:.2f}, Accuracy:{accuracy:.2f}\")\n",
    "X_test=np.array([[0,0],[0,1],[1,0],[1,1]])\n",
    "y_pred=(model.predict(X_test, verbose=0)>0.5).astype(\"int32\")\n",
    "print(\"Input\\tOutput\")\n",
    "for i in range(len(X_test)):\n",
    "    print(f\"{X_test[i]}\\t{y_pred[i][0]}\")"
   ]
  }
 ],
 "metadata": {
  "kernelspec": {
   "display_name": "Python 3 (ipykernel)",
   "language": "python",
   "name": "python3"
  },
  "language_info": {
   "codemirror_mode": {
    "name": "ipython",
    "version": 3
   },
   "file_extension": ".py",
   "mimetype": "text/x-python",
   "name": "python",
   "nbconvert_exporter": "python",
   "pygments_lexer": "ipython3",
   "version": "3.9.12"
  }
 },
 "nbformat": 4,
 "nbformat_minor": 5
}
